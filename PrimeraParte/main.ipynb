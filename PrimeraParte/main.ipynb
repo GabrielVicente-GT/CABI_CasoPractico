{
 "cells": [
  {
   "attachments": {},
   "cell_type": "markdown",
   "metadata": {},
   "source": [
    "# Primera Parte\n",
    "## Limpieza y procesamiento de datos\n",
    "\n",
    "<img src=\"./logo_banguat_final.png\">\n",
    "\n",
    "Guatemala recibió en febrero de 2023 US$ 1,381.1 millones por remesasfamiliares, que equivale\n",
    "a unos Q 10mil 910 millones. Las remesas son una fuente importante en la economía\n",
    "guatemalteca, en el enlace: http://www.banguat.gob.gt/es/page/anos-2002-2023 podrá\n",
    "encontrar un cuadro con el histórico de remesas familiares en Guatemala, cuadro que deberá\n",
    "de normalizar respecto a la fecha para luego realizar las siguientes operaciones en columnas\n",
    "aparte, tomar en cuenta que esta base de datos será actualizada recurrentemente.\n",
    "- Crecimiento trimestral\n",
    "- Crecimiento interanual\n",
    "- Media móvil de 6 meses\n",
    "Además de realizar una gráfica por cada columna (Valor, crecimientos, media móvil)\n",
    "Detallar cada paso realizado en la operación, queries y formulas utilizadas."
   ]
  },
  {
   "attachments": {},
   "cell_type": "markdown",
   "metadata": {},
   "source": [
    "### Librerias utilizadas para la limpieza de datos y obtencion de tabla principal"
   ]
  },
  {
   "cell_type": "code",
   "execution_count": 134,
   "metadata": {},
   "outputs": [],
   "source": [
    "import openpyxl\n",
    "import requests\n",
    "import pandas as pd"
   ]
  },
  {
   "attachments": {},
   "cell_type": "markdown",
   "metadata": {},
   "source": [
    "### Consideracion de actualización de base de datos recurrentemente\n",
    "\n",
    "Cómo la base de datos se va actualizando, no es viable la descarga directa y trabajar sobre el .xlsx sin actualizaciones. Necesitamos una forma de obtener siempre la última versión de este archivo y esto se logra solicitando el HTTP request directamente a la pagina y almacenando el archivo .xslx que nos envien localmente. Este proceso se realizará cada vez que se ejecute este Jupyter Notebook"
   ]
  },
  {
   "cell_type": "code",
   "execution_count": 135,
   "metadata": {},
   "outputs": [
    {
     "name": "stdout",
     "output_type": "stream",
     "text": [
      "Archivo actualizado exitosamente.\n"
     ]
    }
   ],
   "source": [
    "# URL con el cual realizamos el HTTP request\n",
    "url = \"http://www.banguat.gob.gt/sites/default/files/banguat/estaeco/remesas/remfam2010_2023.xlsx\"\n",
    "\n",
    "# Obtencion del nombre\n",
    "filename = url.split('/')[-1]\n",
    "response = requests.get(url)\n",
    "\n",
    "# Escritura del archivo localmente\n",
    "with open(filename, 'wb') as f:\n",
    "    f.write(response.content)\n",
    "\n",
    "# Obtencion de df especifica del excel y de la worksheet\n",
    "wb = openpyxl.load_workbook(\"remfam2010_2023.xlsx\")\n",
    "ws = wb['2002-2023']\n",
    "\n",
    "# Valores en los que se encuentra la tabla que nos interesa\n",
    "df = ws['B10':'X22']\n",
    "rows = []\n",
    "for row in df:\n",
    "    rows.append([cell.value for cell in row])\n",
    "df = pd.DataFrame(rows)\n",
    "\n",
    "# Escribir el dfFrame en un archivo CSV\n",
    "df.to_csv('remfam2010_2023_clean.csv', index=False, header=False)\n",
    "\n",
    "# # Cargar el archivo CSV\n",
    "df = pd.read_csv('remfam2010_2023_clean.csv', index_col=0)\n",
    "\n",
    "# Realizar la suma en pandas ya que el valor devuelto del .xslx no es el valor sino la formula\n",
    "total_row = df.sum(axis=0)\n",
    "total_row.name = \"Total\"\n",
    "df = pd.concat([df, total_row.to_frame().T])\n",
    "\n",
    "# Guardar el archivo actualizado\n",
    "df.to_csv('remfam2010_2023_clean.csv')\n",
    "print(\"Archivo actualizado exitosamente.\")"
   ]
  },
  {
   "attachments": {},
   "cell_type": "markdown",
   "metadata": {},
   "source": [
    "### Leemos el archivo csv limpio\n",
    "\n",
    "En este se encuentra nuestra tabla \"Cuadro 1 Guatemala: Ingreso de Divisas por Remesas Familiares En millones de US dólares\tAños: 2002 - 2023\" que obtuvimos del .xlsx actualizable. Con esta información ya podemos empezar a realizar las operaciones que nos solicitan"
   ]
  },
  {
   "cell_type": "code",
   "execution_count": 136,
   "metadata": {},
   "outputs": [
    {
     "name": "stdout",
     "output_type": "stream",
     "text": [
      "                2002.0      2003.0      2004.0\n",
      "Enero         83.15574   164.75655   194.74402\n",
      "Febrero       96.65939   144.74341   183.73886\n",
      "Marzo        109.03374   160.77811   227.89545\n",
      "Abril        139.21199   181.08733   204.01319\n",
      "Mayo          89.75174   187.37634   210.78039\n",
      "Junio        127.97632   161.49457   212.12977\n",
      "Julio        136.52537   191.95433   206.61293\n",
      "Agosto       162.30790   178.91320   212.78174\n",
      "Septiembre   157.33877   176.55097   211.77725\n",
      "Octubre      176.26081   189.88092   218.02659\n",
      "Noviembre    142.97583   173.37563   236.70772\n",
      "Diciembre    158.19428   195.59340   231.41521\n",
      "Total       1579.39188  2106.50476  2550.62312\n"
     ]
    }
   ],
   "source": [
    "df = pd.read_csv('remfam2010_2023_clean.csv', index_col=0)\n",
    "print(df[['2002.0','2003.0','2004.0']])"
   ]
  },
  {
   "attachments": {},
   "cell_type": "markdown",
   "metadata": {},
   "source": [
    "### Normalización\n"
   ]
  },
  {
   "cell_type": "code",
   "execution_count": 137,
   "metadata": {},
   "outputs": [
    {
     "name": "stdout",
     "output_type": "stream",
     "text": [
      "              2002.0    2003.0    2004.0\n",
      "Enero       0.052650  0.078213  0.076352\n",
      "Febrero     0.061200  0.068713  0.072037\n",
      "Marzo       0.069035  0.076325  0.089349\n",
      "Abril       0.088143  0.085966  0.079986\n",
      "Mayo        0.056827  0.088951  0.082639\n",
      "Junio       0.081029  0.076665  0.083168\n",
      "Julio       0.086442  0.091125  0.081005\n",
      "Agosto      0.102766  0.084934  0.083423\n",
      "Septiembre  0.099620  0.083812  0.083030\n",
      "Octubre     0.111600  0.090140  0.085480\n",
      "Noviembre   0.090526  0.082305  0.092804\n",
      "Diciembre   0.100162  0.092852  0.090729\n",
      "Total       1.000000  1.000000  1.000000\n"
     ]
    },
    {
     "data": {
      "text/plain": [
       "'Normalizacion con sklearn'"
      ]
     },
     "execution_count": 137,
     "metadata": {},
     "output_type": "execute_result"
    }
   ],
   "source": [
    "import pandas as pd\n",
    "from sklearn.preprocessing import MinMaxScaler\n",
    "\n",
    "# Cargar los datos del archivo CSV en un dfFrame de Pandas\n",
    "df = pd.read_csv('remfam2010_2023_clean.csv', index_col=0)\n",
    "\n",
    "\n",
    "\"\"\"Normalizacion respecto al valor final del año\"\"\"\n",
    "df = df.div(df.iloc[-1], axis=1)\n",
    "print(df[['2002.0','2003.0','2004.0']])\n",
    "\n",
    "df.to_csv('remfam2010_2023_normalizado.csv')\n",
    "\n",
    "\n",
    "\"\"\"Normalizacion con sklearn\"\"\"\n",
    "# scaler = MinMaxScaler()\n",
    "# df_norm = pd.DataFrame(scaler.fit_transform(df), columns=df.columns, index=df.index)\n",
    "\n",
    "# df_norm.to_csv('remfam2010_2023_normalizado.csv')\n",
    "\n",
    "# print(df_norm[['2002.0','2003.0','2004.0']])"
   ]
  },
  {
   "attachments": {},
   "cell_type": "markdown",
   "metadata": {},
   "source": [
    "### Datos solicitados\n",
    "Estos se encuentran dentro del archivo 'remfam2010_2023_datos2.csv' el cual luego de realizar las tazas solicitadas y agregarlas dentro del csv permite realizar las graficas. Para que esta implementación tome en cuenta datos actuales recopilados del .xslx mas reciente es necesario exportar los datos del Excel 'remfam2010_2023_datos.xlsx' a 'remfam2010_2023_datos2.xlsx' que es en donde se realizan las operaciones"
   ]
  },
  {
   "cell_type": "code",
   "execution_count": 138,
   "metadata": {},
   "outputs": [],
   "source": [
    "# Convertir a archivo excel que nosotros modificaremos\n",
    "df = pd.read_csv('remfam2010_2023_normalizado.csv')\n",
    "df.to_excel('remfam2010_2023_datos.xlsx', index=False)\n"
   ]
  },
  {
   "attachments": {},
   "cell_type": "markdown",
   "metadata": {},
   "source": [
    "Recreación de operaciones automaticamente para no estar realizando cambios entre excels y procesos de copy paste que pueden afectar el proceso de alguna manera"
   ]
  },
  {
   "cell_type": "code",
   "execution_count": 139,
   "metadata": {},
   "outputs": [],
   "source": [
    "\n",
    "wb = openpyxl.load_workbook('remfam2010_2023_datos.xlsx')\n",
    "ws = wb['Sheet1']\n",
    "ws['A15'] = 'Q1' \n",
    "ws['A16'] = 'Q2' \n",
    "ws['A17'] = 'Q3' \n",
    "ws['A18'] = 'Q4'\n",
    "ws['A19'] = 'TazaCrecimiento'\n",
    "ws['A20'] = 'TCAQ1' \n",
    "ws['A21'] = 'TCAQ2' \n",
    "ws['A22'] = 'TCAQ3' \n",
    "ws['A23'] = 'TCAQ4'\n",
    "ws['A24'] = 'MM_ENE'\n",
    "ws['A25'] = 'MM_FEB'\n",
    "ws['A26'] = 'MM_MAR'\n",
    "ws['A27'] = 'MM_ABRIL'\n",
    "ws['A28'] = 'MM_MAY'\n",
    "ws['A29'] = 'MM_JUN'\n",
    "ws['A30'] = 'MM_JUL'\n",
    "ws['A31'] = 'MM_AG'\n",
    "ws['A32'] = 'MM_SEP'\n",
    "ws['A33'] = 'MM_OCT'\n",
    "ws['A34'] = 'MM_NOV'\n",
    "ws['A35'] = 'MM_DIC'\n",
    "\n",
    "ws['B15'] = '=SUM(B2:B4)'\n",
    "ws['B16'] = \"=((SUM(B5:B7)-SUM(B2:B4))/SUM(B2:B4))\"\n",
    "ws['B17'] = \"=((SUM(B8:B10)-SUM(B5:B7))/SUM(B5:B7))\"\n",
    "ws['B18'] = \"=((SUM(B11:B13)-SUM(B8:B10))/SUM(B8:B10))\"\n",
    "ws['B20'] = 0\n",
    "ws['B21'] = 0\n",
    "ws['B22'] = 0\n",
    "ws['B23'] = 0\n",
    "ws['B24'] = '=AVERAGE(B2)'\n",
    "ws['B25'] = '=AVERAGE(B2:B3)'\n",
    "ws['B26'] = '=AVERAGE(B2:B4)'\n",
    "ws['B27'] = '=AVERAGE(B2:B5)'\n",
    "ws['B28'] = '=AVERAGE(B2:B6)'\n",
    "ws['B29'] = '=AVERAGE(B2:B7)'\n",
    "ws['B30'] = '=AVERAGE(B3:B8)'\n",
    "ws['B31'] = '=AVERAGE(B4:B9)'\n",
    "ws['B32'] = '=AVERAGE(B5:B10)'\n",
    "ws['B33'] = '=AVERAGE(B6:B11)'\n",
    "ws['B34'] = '=AVERAGE(B7:B12)'\n",
    "ws['B35'] = '=AVERAGE(B8:B13)'\n",
    "\n",
    "\n",
    "for col in range(3,23):\n",
    "    for row_i in range(15,19):\n",
    "        if row_i == 15:\n",
    "            ws.cell(row=row_i, column=col).value = f'=(SUM({ws.cell(row=row_i, column=(col)).column_letter}2:{ws.cell(row=row_i, column=(col)).column_letter}4)-SUM({ws.cell(row=row_i, column=(col-1)).column_letter}11:{ws.cell(row=row_i, column=(col-1)).column_letter}13))/SUM({ws.cell(row=row_i, column=(col-1)).column_letter}11:{ws.cell(row=row_i, column=(col-1)).column_letter}13)'\n",
    "        if row_i == 16:\n",
    "            ws.cell(row=row_i, column=col).value = f'=((SUM({ws.cell(row=row_i, column=(col)).column_letter}5:{ws.cell(row=row_i, column=(col)).column_letter}7)-SUM({ws.cell(row=row_i, column=(col)).column_letter}2:{ws.cell(row=row_i, column=(col)).column_letter}4))/SUM({ws.cell(row=row_i, column=(col)).column_letter}2:{ws.cell(row=row_i, column=(col)).column_letter}4))'\n",
    "        if row_i == 17:\n",
    "            ws.cell(row=row_i, column=col).value = f'=((SUM({ws.cell(row=row_i, column=(col)).column_letter}8:{ws.cell(row=row_i, column=(col)).column_letter}10)-SUM({ws.cell(row=row_i, column=(col)).column_letter}5:{ws.cell(row=row_i, column=(col)).column_letter}7))/SUM({ws.cell(row=row_i, column=(col)).column_letter}5:{ws.cell(row=row_i, column=(col)).column_letter}7))'\n",
    "        if row_i == 18:\n",
    "            ws.cell(row=row_i, column=col).value = f'=((SUM({ws.cell(row=row_i, column=(col)).column_letter}11:{ws.cell(row=row_i, column=(col)).column_letter}13)-SUM({ws.cell(row=row_i, column=(col)).column_letter}8:{ws.cell(row=row_i, column=(col)).column_letter}10))/SUM({ws.cell(row=row_i, column=(col)).column_letter}8:{ws.cell(row=row_i, column=(col)).column_letter}10))'\n",
    "\n",
    "for col in range(2,23):\n",
    "    ws.cell(row=19, column=col).value = f'=AVERAGE({ws.cell(row=19, column=(col)).column_letter}15:{ws.cell(row=19, column=(col)).column_letter}18)'\n",
    "\n",
    "for col in range(3,23):\n",
    "    for row_i in range(20,24):\n",
    "        if row_i == 20:\n",
    "            ws.cell(row=row_i, column=col).value = f'=(({ws.cell(row=row_i, column=(col)).column_letter}15-{ws.cell(row=row_i, column=(col-1)).column_letter}15)/{ws.cell(row=row_i, column=(col-1)).column_letter}15)'\n",
    "        if row_i == 21:\n",
    "            ws.cell(row=row_i, column=col).value = f'=(({ws.cell(row=row_i, column=(col)).column_letter}16-{ws.cell(row=row_i, column=(col-1)).column_letter}16)/{ws.cell(row=row_i, column=(col-1)).column_letter}16)'\n",
    "        if row_i == 22:\n",
    "            ws.cell(row=row_i, column=col).value = f'=(({ws.cell(row=row_i, column=(col)).column_letter}17-{ws.cell(row=row_i, column=(col-1)).column_letter}17)/{ws.cell(row=row_i, column=(col-1)).column_letter}17)'\n",
    "        if row_i == 23:\n",
    "            ws.cell(row=row_i, column=col).value = f'=(({ws.cell(row=row_i, column=(col)).column_letter}18-{ws.cell(row=row_i, column=(col-1)).column_letter}18)/{ws.cell(row=row_i, column=(col-1)).column_letter}18)'\n",
    "\n",
    "for col in range(3,23):\n",
    "    for row_i in range(24,36):\n",
    "        if row_i == 24:\n",
    "            ws.cell(row=row_i, column=col).value = f'=AVERAGE({ws.cell(row=row_i, column=(col)).column_letter}2,{ws.cell(row=row_i, column=(col-1)).column_letter}9:{ws.cell(row=row_i, column=(col-1)).column_letter}13)'\n",
    "        if row_i == 25:\n",
    "            ws.cell(row=row_i, column=col).value = f'=AVERAGE({ws.cell(row=row_i, column=(col)).column_letter}2:{ws.cell(row=row_i, column=(col)).column_letter}3,{ws.cell(row=row_i, column=(col-1)).column_letter}10:{ws.cell(row=row_i, column=(col-1)).column_letter}13)'\n",
    "        if row_i == 26:\n",
    "            ws.cell(row=row_i, column=col).value = f'=AVERAGE({ws.cell(row=row_i, column=(col)).column_letter}2:{ws.cell(row=row_i, column=(col)).column_letter}4,{ws.cell(row=row_i, column=(col-1)).column_letter}11:{ws.cell(row=row_i, column=(col-1)).column_letter}13)'\n",
    "        if row_i == 27:\n",
    "            ws.cell(row=row_i, column=col).value = f'=AVERAGE({ws.cell(row=row_i, column=(col-1)).column_letter}12:{ws.cell(row=row_i, column=(col-1)).column_letter}13,{ws.cell(row=row_i, column=(col)).column_letter}2:{ws.cell(row=row_i, column=(col)).column_letter}5)'\n",
    "        if row_i == 28:\n",
    "            \n",
    "            ws.cell(row=row_i, column=col).value = f'=AVERAGE({ws.cell(row=row_i, column=(col)).column_letter}2:{ws.cell(row=row_i, column=(col)).column_letter}6,{ws.cell(row=row_i, column=(col-1)).column_letter}13)'\n",
    "        if row_i == 29:\n",
    "            \n",
    "            ws.cell(row=row_i, column=col).value = f'=AVERAGE({ws.cell(row=row_i, column=(col)).column_letter}2:{ws.cell(row=row_i, column=(col)).column_letter}7)'\n",
    "        if row_i == 30:\n",
    "            \n",
    "            ws.cell(row=row_i, column=col).value = f'=AVERAGE({ws.cell(row=row_i, column=(col)).column_letter}3:{ws.cell(row=row_i, column=(col)).column_letter}8)'\n",
    "        if row_i == 31:\n",
    "            \n",
    "            ws.cell(row=row_i, column=col).value = f'=AVERAGE({ws.cell(row=row_i, column=(col)).column_letter}4:{ws.cell(row=row_i, column=(col)).column_letter}9)'\n",
    "        if row_i == 32:\n",
    "            \n",
    "            ws.cell(row=row_i, column=col).value = f'=AVERAGE({ws.cell(row=row_i, column=(col)).column_letter}5:{ws.cell(row=row_i, column=(col)).column_letter}10)'\n",
    "        if row_i == 33:\n",
    "            \n",
    "            \n",
    "            ws.cell(row=row_i, column=col).value = f'=AVERAGE({ws.cell(row=row_i, column=(col)).column_letter}6:{ws.cell(row=row_i, column=(col)).column_letter}11)'\n",
    "        if row_i == 34:\n",
    "            \n",
    "            ws.cell(row=row_i, column=col).value = f'=AVERAGE({ws.cell(row=row_i, column=(col)).column_letter}7:{ws.cell(row=row_i, column=(col)).column_letter}12)'\n",
    "        if row_i == 35:\n",
    "            \n",
    "            ws.cell(row=row_i, column=col).value = f'=AVERAGE({ws.cell(row=row_i, column=(col)).column_letter}8:{ws.cell(row=row_i, column=(col)).column_letter}13)'\n",
    "        \n",
    "\n",
    "wb.save('remfam2010_2023_datos.xlsx')\n",
    "wb.close()\n",
    "\n",
    "\n"
   ]
  },
  {
   "attachments": {},
   "cell_type": "markdown",
   "metadata": {},
   "source": [
    "Fin de la semi automatizacion del Jupiter Notebook"
   ]
  }
 ],
 "metadata": {
  "kernelspec": {
   "display_name": "Python 3",
   "language": "python",
   "name": "python3"
  },
  "language_info": {
   "codemirror_mode": {
    "name": "ipython",
    "version": 3
   },
   "file_extension": ".py",
   "mimetype": "text/x-python",
   "name": "python",
   "nbconvert_exporter": "python",
   "pygments_lexer": "ipython3",
   "version": "3.10.2"
  },
  "orig_nbformat": 4
 },
 "nbformat": 4,
 "nbformat_minor": 2
}
